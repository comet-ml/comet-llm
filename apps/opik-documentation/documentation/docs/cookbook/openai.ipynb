{
 "cells": [
  {
   "cell_type": "markdown",
   "metadata": {},
   "source": [
    "# Using Opik with OpenAI\n",
    "\n",
    "Opik integrates with OpenAI to provide a simple way to log traces for all OpenAI LLM calls. This works for all OpenAI models, including if you are using the streaming API.\n"
   ]
  },
  {
   "cell_type": "markdown",
   "metadata": {},
   "source": [
    "## Creating an account on Comet.com\n",
    "\n",
    "[Comet](https://www.comet.com/site) provides a hosted version of the Opik platform, [simply create an account](https://www.comet.com/signup?from=llm) and grab you API Key.\n",
    "\n",
    "> You can also run the Opik platform locally, see the [installation guide](https://www.comet.com/docs/opik/self-host/self_hosting_opik) for more information."
   ]
  },
  {
   "cell_type": "code",
   "execution_count": null,
   "metadata": {},
   "outputs": [],
   "source": [
    "import os\n",
    "import getpass\n",
    "\n",
    "os.environ[\"OPIK_API_KEY\"] = getpass.getpass(\"Opik API Key: \")\n",
    "os.environ[\"OPIK_WORKSPACE\"] = input(\"Comet workspace (often the same as your username): \")"
   ]
  },
  {
   "cell_type": "markdown",
   "metadata": {},
   "source": [
    "If you are running the Opik platform locally, simply set:"
   ]
  },
  {
   "cell_type": "code",
   "execution_count": 1,
   "metadata": {},
   "outputs": [],
   "source": [
    "# import os\n",
    "# os.environ[\"OPIK_URL_OVERRIDE\"] = \"http://localhost:5173/api\""
   ]
  },
  {
   "cell_type": "markdown",
   "metadata": {},
   "source": [
    "## Preparing our environment\n",
    "\n",
    "First, we will install the necessary libraries and set up our OpenAI API keys."
   ]
  },
  {
   "cell_type": "code",
   "execution_count": null,
   "metadata": {},
   "outputs": [],
   "source": [
    "%pip install --upgrade --quiet opik openai"
   ]
  },
  {
   "cell_type": "code",
   "execution_count": 3,
   "metadata": {},
   "outputs": [],
   "source": [
    "import os\n",
    "import getpass\n",
    "os.environ[\"OPENAI_API_KEY\"] = getpass.getpass(\"OpenAI API Key: \")"
   ]
  },
  {
   "cell_type": "markdown",
   "metadata": {},
   "source": [
    "## Logging traces\n",
    "\n",
    "In order to log traces to Opik, we need to wrap our OpenAI calls with the `track_openai` function:"
   ]
  },
  {
   "cell_type": "code",
   "execution_count": 5,
   "metadata": {},
   "outputs": [
    {
     "name": "stdout",
     "output_type": "stream",
     "text": [
      "Opik was a mischievous little elf who loved pulling pranks on his friends in the enchanted forest. One day, his antics went too far and he accidentally turned himself into a fluffy pink bunny.\n"
     ]
    }
   ],
   "source": [
    "from opik.integrations.openai import track_openai\n",
    "from openai import OpenAI\n",
    "\n",
    "os.environ[\"OPIK_PROJECT_NAME\"] = \"openai-integration-demo\"\n",
    "client = OpenAI()\n",
    "\n",
    "openai_client = track_openai(client)\n",
    "\n",
    "prompt = \"\"\"\n",
    "Write a short two sentence story about Opik.\n",
    "\"\"\"\n",
    "\n",
    "completion = openai_client.chat.completions.create(\n",
    "  model=\"gpt-3.5-turbo\",\n",
    "  messages=[\n",
    "    {\"role\": \"user\", \"content\": prompt}\n",
    "  ]\n",
    ")\n",
    "\n",
    "print(completion.choices[0].message.content)"
   ]
  },
  {
   "cell_type": "markdown",
   "metadata": {},
   "source": [
    "The prompt and response messages are automatically logged to Opik and can be viewed in the UI.\n",
    "\n",
    "![OpenAI Integration](/img/cookbook/openai_trace_cookbook.png)"
   ]
  },
  {
   "cell_type": "markdown",
   "metadata": {},
   "source": [
    "## Using it with the `track` decorator\n",
    "\n",
    "If you have multiple steps in your LLM pipeline, you can use the `track` decorator to log the traces for each step. If OpenAI is called within one of these steps, the LLM call with be associated with that corresponding step:"
   ]
  },
  {
   "cell_type": "code",
   "execution_count": 8,
   "metadata": {},
   "outputs": [
    {
     "data": {
      "text/plain": [
       "\"Opik was a young wizard who lived in the small village of Mithos, where magic was both feared and revered. From a young age, Opik had shown a natural talent for magic, much to the dismay of his parents who were simple farmers. They feared the power that their son possessed and did everything they could to suppress it.\\n\\nDespite his parents' efforts, Opik continued to practice his magic in secret, honing his skills and learning all he could about the ancient art. He longed to become a powerful wizard, respected and feared by all who knew him. But as he grew older, he also began to realize that his thirst for power was beginning to consume him, turning him into a dark and reckless mage.\\n\\nOne day, a mysterious figure approached Opik in the village square, offering him a chance to join a secret society of powerful wizards. Intrigued by the offer, Opik accepted and was soon initiated into the group, which called themselves the Arcanum.\\n\\nUnder the guidance of the Arcanum, Opik's power grew exponentially. He could wield spells of immense power, bending reality to his will with a mere flick of his wrist. But as his power grew, so did his arrogance and greed. He began to see himself as above all others, using his magic to manipulate and control those around him.\\n\\nOne day, a great evil swept across the land, threatening to destroy everything in its path. The Arcanum tasked Opik with defeating this evil, seeing it as a chance for him to prove his worth and redeem himself. But as he faced the darkness head-on, Opik realized that true power lay not in domination and control, but in compassion and selflessness.\\n\\nIn a moment of clarity, Opik cast aside his dark ambitions and embraced the light within him. With newfound resolve, he fought against the evil that threatened his home, using his magic not to destroy, but to protect and heal. In the end, it was not his raw power that saved the day, but his courage and heart.\\n\\nAnd so, Opik returned to his village a changed man, no longer seeking power for power's sake, but striving to use his magic for the good of all. The villagers welcomed him back with open arms, seeing in him a hero and a protector. And as he walked among them, a new journey unfolded before him - a journey of redemption, compassion, and true magic.\""
      ]
     },
     "execution_count": 8,
     "metadata": {},
     "output_type": "execute_result"
    }
   ],
   "source": [
    "from opik import track\n",
    "from opik.integrations.openai import track_openai\n",
    "from openai import OpenAI\n",
    "\n",
    "os.environ[\"OPIK_PROJECT_NAME\"] = \"openai-integration-demo\"\n",
    "\n",
    "client = OpenAI()\n",
    "openai_client = track_openai(client)\n",
    "\n",
    "@track\n",
    "def generate_story(prompt):\n",
    "    res = openai_client.chat.completions.create(\n",
    "        model=\"gpt-3.5-turbo\",\n",
    "        messages=[\n",
    "            {\"role\": \"user\", \"content\": prompt}\n",
    "        ]\n",
    "    )\n",
    "    return res.choices[0].message.content\n",
    "\n",
    "@track\n",
    "def generate_topic():\n",
    "    prompt = \"Generate a topic for a story about Opik.\"\n",
    "    res = openai_client.chat.completions.create(\n",
    "        model=\"gpt-3.5-turbo\",\n",
    "        messages=[\n",
    "            {\"role\": \"user\", \"content\": prompt}\n",
    "        ]\n",
    "    )\n",
    "    return res.choices[0].message.content\n",
    "\n",
    "@track\n",
    "def generate_opik_story():\n",
    "    topic = generate_topic()\n",
    "    story = generate_story(topic)\n",
    "    return story\n",
    "\n",
    "generate_opik_story()\n"
   ]
  },
  {
   "cell_type": "markdown",
   "metadata": {},
   "source": [
    "The trace can now be viewed in the UI:\n",
    "\n",
    "![OpenAI Integration](/img/cookbook/openai_trace_decorator_cookbook.png)"
   ]
  }
 ],
 "metadata": {
  "kernelspec": {
   "display_name": "py312_llm_eval",
   "language": "python",
   "name": "python3"
  },
  "language_info": {
   "codemirror_mode": {
    "name": "ipython",
    "version": 3
   },
   "file_extension": ".py",
   "mimetype": "text/x-python",
   "name": "python",
   "nbconvert_exporter": "python",
   "pygments_lexer": "ipython3",
   "version": "3.12.4"
  }
 },
 "nbformat": 4,
 "nbformat_minor": 2
}
